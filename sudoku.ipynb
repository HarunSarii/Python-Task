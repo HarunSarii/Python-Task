{
 "cells": [
  {
   "cell_type": "code",
   "execution_count": 1,
   "metadata": {},
   "outputs": [],
   "source": [
    "sudoku = [\n",
    "    [0, 0, 0, 0, 6, 4, 0, 0, 0],\n",
    "    [7, 0, 0, 0, 0, 0, 3, 9, 0],\n",
    "    [8, 0, 0, 0, 0, 0, 0, 0, 0],\n",
    "    [0, 0, 0, 5, 0, 2, 0, 6, 0],\n",
    "    [0, 8, 0, 4, 0, 0, 0, 0, 0],\n",
    "    [3, 5, 0, 6, 0, 0, 0, 7, 0],\n",
    "    [0, 0, 2, 0, 0, 0, 1, 0, 3],\n",
    "    [0, 0, 1, 0, 5, 9, 0, 0, 0],\n",
    "    [0, 0, 0, 0, 0, 0, 7, 0, 0]\n",
    "]"
   ]
  },
  {
   "cell_type": "code",
   "execution_count": 2,
   "metadata": {},
   "outputs": [
    {
     "name": "stdout",
     "output_type": "stream",
     "text": [
      "---------------------\n",
      "0 0 0 | 0 6 4 | 0 0 0 \n",
      "7 0 0 | 0 0 0 | 3 9 0 \n",
      "8 0 0 | 0 0 0 | 0 0 0 \n",
      "---------------------\n",
      "0 0 0 | 5 0 2 | 0 6 0 \n",
      "0 8 0 | 4 0 0 | 0 0 0 \n",
      "3 5 0 | 6 0 0 | 0 7 0 \n",
      "---------------------\n",
      "0 0 2 | 0 0 0 | 1 0 3 \n",
      "0 0 1 | 0 5 9 | 0 0 0 \n",
      "0 0 0 | 0 0 0 | 7 0 0 \n",
      "---------------------\n"
     ]
    }
   ],
   "source": [
    "def display(x) :\n",
    "    for i in range(len(x)+4) :\n",
    "        if i % 4 == 0 :\n",
    "            x.insert(i, [((\"-\")*21)])\n",
    "    for j in range(13) : \n",
    "        if j % 4 != 0 :\n",
    "            x[j].insert(3, \"|\")\n",
    "            x[j].insert(7, \"|\")\n",
    "    for ii in x :\n",
    "        if len(ii) == 1 :\n",
    "            print(ii[0])\n",
    "        elif len(ii) == 11 :\n",
    "            for iii in range(11):\n",
    "                print(ii[iii] , end = \" \")\n",
    "            print(\"\")\n",
    "display(sudoku)"
   ]
  },
  {
   "cell_type": "code",
   "execution_count": null,
   "metadata": {},
   "outputs": [],
   "source": []
  }
 ],
 "metadata": {
  "kernelspec": {
   "display_name": "Python 3",
   "language": "python",
   "name": "python3"
  },
  "language_info": {
   "codemirror_mode": {
    "name": "ipython",
    "version": 3
   },
   "file_extension": ".py",
   "mimetype": "text/x-python",
   "name": "python",
   "nbconvert_exporter": "python",
   "pygments_lexer": "ipython3",
   "version": "3.8.5"
  }
 },
 "nbformat": 4,
 "nbformat_minor": 4
}
