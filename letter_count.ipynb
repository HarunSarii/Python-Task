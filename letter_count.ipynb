{
 "cells": [
  {
   "cell_type": "code",
   "execution_count": null,
   "metadata": {},
   "outputs": [],
   "source": [
    "#letter count assignment\n",
    "\n",
    "sentence = input(\"Enter a sentence: \")\n",
    "\n",
    "sentence_dict = {}\n",
    "\n",
    "for i in sentence:\n",
    "    keys = sentence_dict.keys()\n",
    "    if i in keys:\n",
    "        sentence_dict[i] += 1\n",
    "    else:\n",
    "        sentence_dict[i]= 1\n",
    "print(sentence_dict)"
   ]
  }
 ],
 "metadata": {
  "kernelspec": {
   "display_name": "Python 3",
   "language": "python",
   "name": "python3"
  },
  "language_info": {
   "codemirror_mode": {
    "name": "ipython",
    "version": 3
   },
   "file_extension": ".py",
   "mimetype": "text/x-python",
   "name": "python",
   "nbconvert_exporter": "python",
   "pygments_lexer": "ipython3",
   "version": "3.8.5"
  }
 },
 "nbformat": 4,
 "nbformat_minor": 4
}
